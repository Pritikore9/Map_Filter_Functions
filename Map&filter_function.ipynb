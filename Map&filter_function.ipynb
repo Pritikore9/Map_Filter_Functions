{
 "cells": [
  {
   "cell_type": "code",
   "execution_count": 1,
   "id": "6fd6cadb",
   "metadata": {},
   "outputs": [],
   "source": [
    "def even_or_odd(num):\n",
    "    if num%2==0:\n",
    "        return 'the number {} is even'.format(num)\n",
    "    else:\n",
    "        return 'the number {} is odd'.format(num)"
   ]
  },
  {
   "cell_type": "code",
   "execution_count": 2,
   "id": "69fc6e71",
   "metadata": {},
   "outputs": [
    {
     "data": {
      "text/plain": [
       "'the number 76 is even'"
      ]
     },
     "execution_count": 2,
     "metadata": {},
     "output_type": "execute_result"
    }
   ],
   "source": [
    "even_or_odd(76)"
   ]
  },
  {
   "cell_type": "code",
   "execution_count": 3,
   "id": "e42d3fcc",
   "metadata": {},
   "outputs": [
    {
     "data": {
      "text/plain": [
       "'the number 99 is odd'"
      ]
     },
     "execution_count": 3,
     "metadata": {},
     "output_type": "execute_result"
    }
   ],
   "source": [
    "even_or_odd(99)"
   ]
  },
  {
   "cell_type": "code",
   "execution_count": 2,
   "id": "abce0969",
   "metadata": {},
   "outputs": [],
   "source": [
    "lst=[1,2,3,4,5,6,7,8,9,10,11,12,33,44,55,66,77]"
   ]
  },
  {
   "cell_type": "code",
   "execution_count": 17,
   "id": "61ff704f",
   "metadata": {},
   "outputs": [
    {
     "name": "stdout",
     "output_type": "stream",
     "text": [
      "the number 0 is even\n",
      "the number 0 is even\n",
      "the number 1 is odd\n",
      "the number 0 is even\n",
      "the number 1 is odd\n",
      "the number 2 is even\n",
      "the number 0 is even\n",
      "the number 1 is odd\n",
      "the number 2 is even\n",
      "the number 3 is odd\n",
      "the number 0 is even\n",
      "the number 1 is odd\n",
      "the number 2 is even\n",
      "the number 3 is odd\n",
      "the number 4 is even\n",
      "the number 0 is even\n",
      "the number 1 is odd\n",
      "the number 2 is even\n",
      "the number 3 is odd\n",
      "the number 4 is even\n",
      "the number 5 is odd\n",
      "the number 0 is even\n",
      "the number 1 is odd\n",
      "the number 2 is even\n",
      "the number 3 is odd\n",
      "the number 4 is even\n",
      "the number 5 is odd\n",
      "the number 6 is even\n",
      "the number 0 is even\n",
      "the number 1 is odd\n",
      "the number 2 is even\n",
      "the number 3 is odd\n",
      "the number 4 is even\n",
      "the number 5 is odd\n",
      "the number 6 is even\n",
      "the number 7 is odd\n",
      "the number 0 is even\n",
      "the number 1 is odd\n",
      "the number 2 is even\n",
      "the number 3 is odd\n",
      "the number 4 is even\n",
      "the number 5 is odd\n",
      "the number 6 is even\n",
      "the number 7 is odd\n",
      "the number 8 is even\n",
      "the number 0 is even\n",
      "the number 1 is odd\n",
      "the number 2 is even\n",
      "the number 3 is odd\n",
      "the number 4 is even\n",
      "the number 5 is odd\n",
      "the number 6 is even\n",
      "the number 7 is odd\n",
      "the number 8 is even\n",
      "the number 9 is odd\n",
      "the number 0 is even\n",
      "the number 1 is odd\n",
      "the number 2 is even\n",
      "the number 3 is odd\n",
      "the number 4 is even\n",
      "the number 5 is odd\n",
      "the number 6 is even\n",
      "the number 7 is odd\n",
      "the number 8 is even\n",
      "the number 9 is odd\n",
      "the number 10 is even\n",
      "the number 0 is even\n",
      "the number 1 is odd\n",
      "the number 2 is even\n",
      "the number 3 is odd\n",
      "the number 4 is even\n",
      "the number 5 is odd\n",
      "the number 6 is even\n",
      "the number 7 is odd\n",
      "the number 8 is even\n",
      "the number 9 is odd\n",
      "the number 10 is even\n",
      "the number 11 is odd\n",
      "the number 0 is even\n",
      "the number 1 is odd\n",
      "the number 2 is even\n",
      "the number 3 is odd\n",
      "the number 4 is even\n",
      "the number 5 is odd\n",
      "the number 6 is even\n",
      "the number 7 is odd\n",
      "the number 8 is even\n",
      "the number 9 is odd\n",
      "the number 10 is even\n",
      "the number 11 is odd\n",
      "the number 12 is even\n",
      "the number 13 is odd\n",
      "the number 14 is even\n",
      "the number 15 is odd\n",
      "the number 16 is even\n",
      "the number 17 is odd\n",
      "the number 18 is even\n",
      "the number 19 is odd\n",
      "the number 20 is even\n",
      "the number 21 is odd\n",
      "the number 22 is even\n",
      "the number 23 is odd\n",
      "the number 24 is even\n",
      "the number 25 is odd\n",
      "the number 26 is even\n",
      "the number 27 is odd\n",
      "the number 28 is even\n",
      "the number 29 is odd\n",
      "the number 30 is even\n",
      "the number 31 is odd\n",
      "the number 32 is even\n",
      "the number 0 is even\n",
      "the number 1 is odd\n",
      "the number 2 is even\n",
      "the number 3 is odd\n",
      "the number 4 is even\n",
      "the number 5 is odd\n",
      "the number 6 is even\n",
      "the number 7 is odd\n",
      "the number 8 is even\n",
      "the number 9 is odd\n",
      "the number 10 is even\n",
      "the number 11 is odd\n",
      "the number 12 is even\n",
      "the number 13 is odd\n",
      "the number 14 is even\n",
      "the number 15 is odd\n",
      "the number 16 is even\n",
      "the number 17 is odd\n",
      "the number 18 is even\n",
      "the number 19 is odd\n",
      "the number 20 is even\n",
      "the number 21 is odd\n",
      "the number 22 is even\n",
      "the number 23 is odd\n",
      "the number 24 is even\n",
      "the number 25 is odd\n",
      "the number 26 is even\n",
      "the number 27 is odd\n",
      "the number 28 is even\n",
      "the number 29 is odd\n",
      "the number 30 is even\n",
      "the number 31 is odd\n",
      "the number 32 is even\n",
      "the number 33 is odd\n",
      "the number 34 is even\n",
      "the number 35 is odd\n",
      "the number 36 is even\n",
      "the number 37 is odd\n",
      "the number 38 is even\n",
      "the number 39 is odd\n",
      "the number 40 is even\n",
      "the number 41 is odd\n",
      "the number 42 is even\n",
      "the number 43 is odd\n",
      "the number 0 is even\n",
      "the number 1 is odd\n",
      "the number 2 is even\n",
      "the number 3 is odd\n",
      "the number 4 is even\n",
      "the number 5 is odd\n",
      "the number 6 is even\n",
      "the number 7 is odd\n",
      "the number 8 is even\n",
      "the number 9 is odd\n",
      "the number 10 is even\n",
      "the number 11 is odd\n",
      "the number 12 is even\n",
      "the number 13 is odd\n",
      "the number 14 is even\n",
      "the number 15 is odd\n",
      "the number 16 is even\n",
      "the number 17 is odd\n",
      "the number 18 is even\n",
      "the number 19 is odd\n",
      "the number 20 is even\n",
      "the number 21 is odd\n",
      "the number 22 is even\n",
      "the number 23 is odd\n",
      "the number 24 is even\n",
      "the number 25 is odd\n",
      "the number 26 is even\n",
      "the number 27 is odd\n",
      "the number 28 is even\n",
      "the number 29 is odd\n",
      "the number 30 is even\n",
      "the number 31 is odd\n",
      "the number 32 is even\n",
      "the number 33 is odd\n",
      "the number 34 is even\n",
      "the number 35 is odd\n",
      "the number 36 is even\n",
      "the number 37 is odd\n",
      "the number 38 is even\n",
      "the number 39 is odd\n",
      "the number 40 is even\n",
      "the number 41 is odd\n",
      "the number 42 is even\n",
      "the number 43 is odd\n",
      "the number 44 is even\n",
      "the number 45 is odd\n",
      "the number 46 is even\n",
      "the number 47 is odd\n",
      "the number 48 is even\n",
      "the number 49 is odd\n",
      "the number 50 is even\n",
      "the number 51 is odd\n",
      "the number 52 is even\n",
      "the number 53 is odd\n",
      "the number 54 is even\n",
      "the number 0 is even\n",
      "the number 1 is odd\n",
      "the number 2 is even\n",
      "the number 3 is odd\n",
      "the number 4 is even\n",
      "the number 5 is odd\n",
      "the number 6 is even\n",
      "the number 7 is odd\n",
      "the number 8 is even\n",
      "the number 9 is odd\n",
      "the number 10 is even\n",
      "the number 11 is odd\n",
      "the number 12 is even\n",
      "the number 13 is odd\n",
      "the number 14 is even\n",
      "the number 15 is odd\n",
      "the number 16 is even\n",
      "the number 17 is odd\n",
      "the number 18 is even\n",
      "the number 19 is odd\n",
      "the number 20 is even\n",
      "the number 21 is odd\n",
      "the number 22 is even\n",
      "the number 23 is odd\n",
      "the number 24 is even\n",
      "the number 25 is odd\n",
      "the number 26 is even\n",
      "the number 27 is odd\n",
      "the number 28 is even\n",
      "the number 29 is odd\n",
      "the number 30 is even\n",
      "the number 31 is odd\n",
      "the number 32 is even\n",
      "the number 33 is odd\n",
      "the number 34 is even\n",
      "the number 35 is odd\n",
      "the number 36 is even\n",
      "the number 37 is odd\n",
      "the number 38 is even\n",
      "the number 39 is odd\n",
      "the number 40 is even\n",
      "the number 41 is odd\n",
      "the number 42 is even\n",
      "the number 43 is odd\n",
      "the number 44 is even\n",
      "the number 45 is odd\n",
      "the number 46 is even\n",
      "the number 47 is odd\n",
      "the number 48 is even\n",
      "the number 49 is odd\n",
      "the number 50 is even\n",
      "the number 51 is odd\n",
      "the number 52 is even\n",
      "the number 53 is odd\n",
      "the number 54 is even\n",
      "the number 55 is odd\n",
      "the number 56 is even\n",
      "the number 57 is odd\n",
      "the number 58 is even\n",
      "the number 59 is odd\n",
      "the number 60 is even\n",
      "the number 61 is odd\n",
      "the number 62 is even\n",
      "the number 63 is odd\n",
      "the number 64 is even\n",
      "the number 65 is odd\n",
      "the number 0 is even\n",
      "the number 1 is odd\n",
      "the number 2 is even\n",
      "the number 3 is odd\n",
      "the number 4 is even\n",
      "the number 5 is odd\n",
      "the number 6 is even\n",
      "the number 7 is odd\n",
      "the number 8 is even\n",
      "the number 9 is odd\n",
      "the number 10 is even\n",
      "the number 11 is odd\n",
      "the number 12 is even\n",
      "the number 13 is odd\n",
      "the number 14 is even\n",
      "the number 15 is odd\n",
      "the number 16 is even\n",
      "the number 17 is odd\n",
      "the number 18 is even\n",
      "the number 19 is odd\n",
      "the number 20 is even\n",
      "the number 21 is odd\n",
      "the number 22 is even\n",
      "the number 23 is odd\n",
      "the number 24 is even\n",
      "the number 25 is odd\n",
      "the number 26 is even\n",
      "the number 27 is odd\n",
      "the number 28 is even\n",
      "the number 29 is odd\n",
      "the number 30 is even\n",
      "the number 31 is odd\n",
      "the number 32 is even\n",
      "the number 33 is odd\n",
      "the number 34 is even\n",
      "the number 35 is odd\n",
      "the number 36 is even\n",
      "the number 37 is odd\n",
      "the number 38 is even\n",
      "the number 39 is odd\n",
      "the number 40 is even\n",
      "the number 41 is odd\n",
      "the number 42 is even\n",
      "the number 43 is odd\n",
      "the number 44 is even\n",
      "the number 45 is odd\n",
      "the number 46 is even\n",
      "the number 47 is odd\n",
      "the number 48 is even\n",
      "the number 49 is odd\n",
      "the number 50 is even\n",
      "the number 51 is odd\n",
      "the number 52 is even\n",
      "the number 53 is odd\n",
      "the number 54 is even\n",
      "the number 55 is odd\n",
      "the number 56 is even\n",
      "the number 57 is odd\n",
      "the number 58 is even\n",
      "the number 59 is odd\n",
      "the number 60 is even\n",
      "the number 61 is odd\n",
      "the number 62 is even\n",
      "the number 63 is odd\n",
      "the number 64 is even\n",
      "the number 65 is odd\n",
      "the number 66 is even\n",
      "the number 67 is odd\n",
      "the number 68 is even\n",
      "the number 69 is odd\n",
      "the number 70 is even\n",
      "the number 71 is odd\n",
      "the number 72 is even\n",
      "the number 73 is odd\n",
      "the number 74 is even\n",
      "the number 75 is odd\n",
      "the number 76 is even\n"
     ]
    }
   ],
   "source": [
    "def even_or_odd(lst):\n",
    "    for i in range(lst):\n",
    "        if i%2==0:\n",
    "            print('the number {} is even'.format(i))\n",
    "        else:\n",
    "            print('the number {} is odd'.format(i))\n",
    "even_or_odd=[even_or_odd(i) for i in lst]"
   ]
  },
  {
   "cell_type": "code",
   "execution_count": 20,
   "id": "9a8cdb0a",
   "metadata": {},
   "outputs": [],
   "source": [
    "def even_or_odd(lst):\n",
    "    for i in range(len(lst)):\n",
    "        x =lst[i]\n",
    "        if x%2==0:\n",
    "            print('the number {} is even'.format(x))\n",
    "        else:\n",
    "            print('the number {} is odd'.format(x))"
   ]
  },
  {
   "cell_type": "code",
   "execution_count": 21,
   "id": "afc142b0",
   "metadata": {},
   "outputs": [
    {
     "name": "stdout",
     "output_type": "stream",
     "text": [
      "the number 1 is odd\n",
      "the number 2 is even\n",
      "the number 3 is odd\n",
      "the number 4 is even\n",
      "the number 5 is odd\n",
      "the number 6 is even\n",
      "the number 7 is odd\n",
      "the number 8 is even\n",
      "the number 9 is odd\n",
      "the number 10 is even\n",
      "the number 11 is odd\n",
      "the number 12 is even\n",
      "the number 33 is odd\n",
      "the number 44 is even\n",
      "the number 55 is odd\n",
      "the number 66 is even\n",
      "the number 77 is odd\n"
     ]
    }
   ],
   "source": [
    "even_or_odd(lst)"
   ]
  },
  {
   "cell_type": "code",
   "execution_count": 23,
   "id": "c5d84030",
   "metadata": {},
   "outputs": [],
   "source": [
    "# it takes a long time for this, to avoid this we can use the map function here "
   ]
  },
  {
   "cell_type": "code",
   "execution_count": 26,
   "id": "b77045f9",
   "metadata": {},
   "outputs": [],
   "source": [
    "def even_or_odd(num):\n",
    "    if num%2==0:\n",
    "        return 'the number {} is even'.format(num)\n",
    "    else:\n",
    "        return 'the number {} is odd'.format(num)"
   ]
  },
  {
   "cell_type": "code",
   "execution_count": 27,
   "id": "17792457",
   "metadata": {},
   "outputs": [
    {
     "data": {
      "text/plain": [
       "<map at 0x177330e8400>"
      ]
     },
     "execution_count": 27,
     "metadata": {},
     "output_type": "execute_result"
    }
   ],
   "source": [
    "map(even_or_odd,lst)"
   ]
  },
  {
   "cell_type": "code",
   "execution_count": 29,
   "id": "52722f99",
   "metadata": {},
   "outputs": [
    {
     "data": {
      "text/plain": [
       "['the number 1 is odd',\n",
       " 'the number 2 is even',\n",
       " 'the number 3 is odd',\n",
       " 'the number 4 is even',\n",
       " 'the number 5 is odd',\n",
       " 'the number 6 is even',\n",
       " 'the number 7 is odd',\n",
       " 'the number 8 is even',\n",
       " 'the number 9 is odd',\n",
       " 'the number 10 is even',\n",
       " 'the number 11 is odd',\n",
       " 'the number 12 is even',\n",
       " 'the number 33 is odd',\n",
       " 'the number 44 is even',\n",
       " 'the number 55 is odd',\n",
       " 'the number 66 is even',\n",
       " 'the number 77 is odd']"
      ]
     },
     "execution_count": 29,
     "metadata": {},
     "output_type": "execute_result"
    }
   ],
   "source": [
    "list(map(even_or_odd,lst))      # 1st variable is function name and 2nd is iterable"
   ]
  },
  {
   "cell_type": "code",
   "execution_count": null,
   "id": "dc33f3ae",
   "metadata": {},
   "outputs": [],
   "source": []
  },
  {
   "cell_type": "code",
   "execution_count": null,
   "id": "fdb38bc1",
   "metadata": {},
   "outputs": [],
   "source": []
  },
  {
   "cell_type": "markdown",
   "id": "50cf4d50",
   "metadata": {},
   "source": [
    "# Filter function"
   ]
  },
  {
   "cell_type": "code",
   "execution_count": 30,
   "id": "77d6c684",
   "metadata": {},
   "outputs": [],
   "source": [
    "def even(num):\n",
    "    if num%2==0:\n",
    "        return True"
   ]
  },
  {
   "cell_type": "code",
   "execution_count": 31,
   "id": "f4540ee3",
   "metadata": {},
   "outputs": [],
   "source": [
    "lst=[1,2,3,4,5,6,7,8,9,11,22,33,44]"
   ]
  },
  {
   "cell_type": "code",
   "execution_count": 32,
   "id": "51550026",
   "metadata": {},
   "outputs": [
    {
     "data": {
      "text/plain": [
       "<filter at 0x1773302b430>"
      ]
     },
     "execution_count": 32,
     "metadata": {},
     "output_type": "execute_result"
    }
   ],
   "source": [
    "filter(even,lst)"
   ]
  },
  {
   "cell_type": "code",
   "execution_count": 33,
   "id": "c3a22530",
   "metadata": {},
   "outputs": [
    {
     "data": {
      "text/plain": [
       "[2, 4, 6, 8, 22, 44]"
      ]
     },
     "execution_count": 33,
     "metadata": {},
     "output_type": "execute_result"
    }
   ],
   "source": [
    "list(filter(even,lst))"
   ]
  },
  {
   "cell_type": "code",
   "execution_count": 34,
   "id": "9ba06f47",
   "metadata": {},
   "outputs": [
    {
     "data": {
      "text/plain": [
       "<map at 0x1773302b0d0>"
      ]
     },
     "execution_count": 34,
     "metadata": {},
     "output_type": "execute_result"
    }
   ],
   "source": [
    "map(even,lst)"
   ]
  },
  {
   "cell_type": "code",
   "execution_count": 35,
   "id": "f031c7e3",
   "metadata": {},
   "outputs": [
    {
     "data": {
      "text/plain": [
       "[None, True, None, True, None, True, None, True, None, None, True, None, True]"
      ]
     },
     "execution_count": 35,
     "metadata": {},
     "output_type": "execute_result"
    }
   ],
   "source": [
    "list(map(even,lst))"
   ]
  },
  {
   "cell_type": "code",
   "execution_count": 36,
   "id": "168de25b",
   "metadata": {},
   "outputs": [
    {
     "data": {
      "text/plain": [
       "<filter at 0x17731f31a90>"
      ]
     },
     "execution_count": 36,
     "metadata": {},
     "output_type": "execute_result"
    }
   ],
   "source": [
    "filter(lambda num:num%2==0,lst)"
   ]
  },
  {
   "cell_type": "code",
   "execution_count": 39,
   "id": "f35d6e3c",
   "metadata": {},
   "outputs": [
    {
     "data": {
      "text/plain": [
       "[2, 4, 6, 8, 22, 44]"
      ]
     },
     "execution_count": 39,
     "metadata": {},
     "output_type": "execute_result"
    }
   ],
   "source": [
    "list(filter(lambda num:num%2==0,lst))"
   ]
  },
  {
   "cell_type": "code",
   "execution_count": 41,
   "id": "ffe7ae56",
   "metadata": {},
   "outputs": [
    {
     "data": {
      "text/plain": [
       "[False,\n",
       " True,\n",
       " False,\n",
       " True,\n",
       " False,\n",
       " True,\n",
       " False,\n",
       " True,\n",
       " False,\n",
       " False,\n",
       " True,\n",
       " False,\n",
       " True]"
      ]
     },
     "execution_count": 41,
     "metadata": {},
     "output_type": "execute_result"
    }
   ],
   "source": [
    "list(map(lambda num:num%2==0,lst))"
   ]
  },
  {
   "cell_type": "code",
   "execution_count": null,
   "id": "d7ba29fa",
   "metadata": {},
   "outputs": [],
   "source": []
  }
 ],
 "metadata": {
  "kernelspec": {
   "display_name": "Python 3 (ipykernel)",
   "language": "python",
   "name": "python3"
  },
  "language_info": {
   "codemirror_mode": {
    "name": "ipython",
    "version": 3
   },
   "file_extension": ".py",
   "mimetype": "text/x-python",
   "name": "python",
   "nbconvert_exporter": "python",
   "pygments_lexer": "ipython3",
   "version": "3.9.12"
  }
 },
 "nbformat": 4,
 "nbformat_minor": 5
}
